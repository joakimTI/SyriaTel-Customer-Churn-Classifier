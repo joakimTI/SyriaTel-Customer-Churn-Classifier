{
 "cells": [
  {
   "cell_type": "markdown",
   "metadata": {},
   "source": [
    "# SyriaTel Customer Churn Classifier"
   ]
  },
  {
   "cell_type": "markdown",
   "metadata": {},
   "source": [
    "### Overview\n",
    "Customer acquisition is very costly to businesses, especially in the telecom industry, therefore customer retention is paramount for a business to be successful. Finding ways to retain existing customers is more cost effective than acquiring new customers. This project aims to build a classification model that will predict whether a customer will soon stop doing business with SyriaTel, and suggest measures to reduce customer churn rate.\n",
    "\n",
    "By developing multiple classification models, Syriatel will be able to determine the factors that increase customer churn rate and proactively employ methods that will improve customer retention.\n",
    "\n",
    "### Problem Statement\n",
    "\n",
    "This project aims to conduct a thorough analysis of the SyriaTel customer churn data, utilizing multiple classification modeling techniques. The primary goal is to uncover insights into the factors influencing customer churn for SyriaTel, and suggest proactive measures to reduce the churn rate.\n",
    "\n",
    "\n",
    "### Stake Holders\n",
    "\n",
    "This project targets a diverse audience:\n",
    "\n",
    "- **SyriaTel**: SyriaTel's gain is to increase revenue by reducing customer churn rate, which in turn lowers customer acquisition cost. The marketting team can specifically target these customers.\n",
    "\n",
    "- **Third-party Consultants**:  Companies and consultants seeking data-driven insights into customer retention in the Telecommunication industry can utilize these classification models.\n",
    "\n",
    "## Objectives:\n",
    "\n",
    "1. **Reducing Customer Churn Rate:**\n",
    "   - Predict which customers are likely to stop doing business with SyriaTel, the company can then specifically target these customers and improve retention.\n",
    "\n",
    "2. **Assess the Factors/Features Causing Customer Churn:**\n",
    "   - Analyze the Syritel churn data and determine the features that impact customer churn rate the most. These will provide measures that Syritel can implement proactively to improve customer retention.\n",
    "\n",
    "3. **Develop a Classification Model to Predict SyriaTel's Customer Churn:**\n",
    "   - Build and evaluate multiple classification models using the best features to predict when a customer will likely stop doing business with SyriaTel. Provide stakeholders with a predictive tool for estimating customer churn at Syriatel."
   ]
  },
  {
   "cell_type": "markdown",
   "metadata": {},
   "source": [
    "## Business Understanding\n",
    "This project addresses the core business issue of customer retention in a telecom company. Key stakeholders such as telecom companies and consultants are focused on gaining insights into the factors that influence customer churn rate, enabling them to make pro-active, data-driven decisions to improve customer satisfaction."
   ]
  },
  {
   "cell_type": "markdown",
   "metadata": {},
   "source": [
    "## Data Understanding\n",
    "I've used the SyriaTel Customer Churn Dataset. The data represents details about SyriTel's customers and sets the churn feature to true or false. Through analysis of the other features, we'll gain insight into what affects the churn column/feature. \n",
    "\n"
   ]
  },
  {
   "cell_type": "markdown",
   "metadata": {},
   "source": [
    "### Exploratory Data Analysis"
   ]
  },
  {
   "cell_type": "markdown",
   "metadata": {},
   "source": [
    "#### Library Imports"
   ]
  },
  {
   "cell_type": "code",
   "execution_count": 303,
   "metadata": {},
   "outputs": [],
   "source": [
    "#import files\n",
    "import pandas as pd\n",
    "import numpy as np\n",
    "\n",
    "import matplotlib.pyplot as plt\n",
    "import seaborn as sns\n",
    "\n",
    "from sklearn.model_selection import train_test_split,cross_val_score\n",
    "from imblearn.over_sampling import SMOTE \n",
    "from sklearn.metrics import accuracy_score,f1_score,recall_score,precision_score,confusion_matrix,roc_curve,roc_auc_score,classification_report\n",
    "from sklearn.preprocessing import MinMaxScaler, StandardScaler, OneHotEncoder\n",
    "from scipy import stats\n",
    "\n",
    "from sklearn.tree import DecisionTreeClassifier\n",
    "from sklearn.ensemble import RandomForestClassifier\n",
    "from sklearn.linear_model import LogisticRegression"
   ]
  },
  {
   "cell_type": "markdown",
   "metadata": {},
   "source": [
    "#### Load the SyriaTel customer churn data"
   ]
  },
  {
   "cell_type": "code",
   "execution_count": 304,
   "metadata": {},
   "outputs": [
    {
     "data": {
      "text/html": [
       "<div>\n",
       "<style scoped>\n",
       "    .dataframe tbody tr th:only-of-type {\n",
       "        vertical-align: middle;\n",
       "    }\n",
       "\n",
       "    .dataframe tbody tr th {\n",
       "        vertical-align: top;\n",
       "    }\n",
       "\n",
       "    .dataframe thead th {\n",
       "        text-align: right;\n",
       "    }\n",
       "</style>\n",
       "<table border=\"1\" class=\"dataframe\">\n",
       "  <thead>\n",
       "    <tr style=\"text-align: right;\">\n",
       "      <th></th>\n",
       "      <th>state</th>\n",
       "      <th>account length</th>\n",
       "      <th>area code</th>\n",
       "      <th>phone number</th>\n",
       "      <th>international plan</th>\n",
       "      <th>voice mail plan</th>\n",
       "      <th>number vmail messages</th>\n",
       "      <th>total day minutes</th>\n",
       "      <th>total day calls</th>\n",
       "      <th>total day charge</th>\n",
       "      <th>...</th>\n",
       "      <th>total eve calls</th>\n",
       "      <th>total eve charge</th>\n",
       "      <th>total night minutes</th>\n",
       "      <th>total night calls</th>\n",
       "      <th>total night charge</th>\n",
       "      <th>total intl minutes</th>\n",
       "      <th>total intl calls</th>\n",
       "      <th>total intl charge</th>\n",
       "      <th>customer service calls</th>\n",
       "      <th>churn</th>\n",
       "    </tr>\n",
       "  </thead>\n",
       "  <tbody>\n",
       "    <tr>\n",
       "      <th>0</th>\n",
       "      <td>KS</td>\n",
       "      <td>128</td>\n",
       "      <td>415</td>\n",
       "      <td>382-4657</td>\n",
       "      <td>no</td>\n",
       "      <td>yes</td>\n",
       "      <td>25</td>\n",
       "      <td>265.1</td>\n",
       "      <td>110</td>\n",
       "      <td>45.07</td>\n",
       "      <td>...</td>\n",
       "      <td>99</td>\n",
       "      <td>16.78</td>\n",
       "      <td>244.7</td>\n",
       "      <td>91</td>\n",
       "      <td>11.01</td>\n",
       "      <td>10.0</td>\n",
       "      <td>3</td>\n",
       "      <td>2.70</td>\n",
       "      <td>1</td>\n",
       "      <td>False</td>\n",
       "    </tr>\n",
       "    <tr>\n",
       "      <th>1</th>\n",
       "      <td>OH</td>\n",
       "      <td>107</td>\n",
       "      <td>415</td>\n",
       "      <td>371-7191</td>\n",
       "      <td>no</td>\n",
       "      <td>yes</td>\n",
       "      <td>26</td>\n",
       "      <td>161.6</td>\n",
       "      <td>123</td>\n",
       "      <td>27.47</td>\n",
       "      <td>...</td>\n",
       "      <td>103</td>\n",
       "      <td>16.62</td>\n",
       "      <td>254.4</td>\n",
       "      <td>103</td>\n",
       "      <td>11.45</td>\n",
       "      <td>13.7</td>\n",
       "      <td>3</td>\n",
       "      <td>3.70</td>\n",
       "      <td>1</td>\n",
       "      <td>False</td>\n",
       "    </tr>\n",
       "    <tr>\n",
       "      <th>2</th>\n",
       "      <td>NJ</td>\n",
       "      <td>137</td>\n",
       "      <td>415</td>\n",
       "      <td>358-1921</td>\n",
       "      <td>no</td>\n",
       "      <td>no</td>\n",
       "      <td>0</td>\n",
       "      <td>243.4</td>\n",
       "      <td>114</td>\n",
       "      <td>41.38</td>\n",
       "      <td>...</td>\n",
       "      <td>110</td>\n",
       "      <td>10.30</td>\n",
       "      <td>162.6</td>\n",
       "      <td>104</td>\n",
       "      <td>7.32</td>\n",
       "      <td>12.2</td>\n",
       "      <td>5</td>\n",
       "      <td>3.29</td>\n",
       "      <td>0</td>\n",
       "      <td>False</td>\n",
       "    </tr>\n",
       "    <tr>\n",
       "      <th>3</th>\n",
       "      <td>OH</td>\n",
       "      <td>84</td>\n",
       "      <td>408</td>\n",
       "      <td>375-9999</td>\n",
       "      <td>yes</td>\n",
       "      <td>no</td>\n",
       "      <td>0</td>\n",
       "      <td>299.4</td>\n",
       "      <td>71</td>\n",
       "      <td>50.90</td>\n",
       "      <td>...</td>\n",
       "      <td>88</td>\n",
       "      <td>5.26</td>\n",
       "      <td>196.9</td>\n",
       "      <td>89</td>\n",
       "      <td>8.86</td>\n",
       "      <td>6.6</td>\n",
       "      <td>7</td>\n",
       "      <td>1.78</td>\n",
       "      <td>2</td>\n",
       "      <td>False</td>\n",
       "    </tr>\n",
       "    <tr>\n",
       "      <th>4</th>\n",
       "      <td>OK</td>\n",
       "      <td>75</td>\n",
       "      <td>415</td>\n",
       "      <td>330-6626</td>\n",
       "      <td>yes</td>\n",
       "      <td>no</td>\n",
       "      <td>0</td>\n",
       "      <td>166.7</td>\n",
       "      <td>113</td>\n",
       "      <td>28.34</td>\n",
       "      <td>...</td>\n",
       "      <td>122</td>\n",
       "      <td>12.61</td>\n",
       "      <td>186.9</td>\n",
       "      <td>121</td>\n",
       "      <td>8.41</td>\n",
       "      <td>10.1</td>\n",
       "      <td>3</td>\n",
       "      <td>2.73</td>\n",
       "      <td>3</td>\n",
       "      <td>False</td>\n",
       "    </tr>\n",
       "  </tbody>\n",
       "</table>\n",
       "<p>5 rows × 21 columns</p>\n",
       "</div>"
      ],
      "text/plain": [
       "  state  account length  area code phone number international plan  \\\n",
       "0    KS             128        415     382-4657                 no   \n",
       "1    OH             107        415     371-7191                 no   \n",
       "2    NJ             137        415     358-1921                 no   \n",
       "3    OH              84        408     375-9999                yes   \n",
       "4    OK              75        415     330-6626                yes   \n",
       "\n",
       "  voice mail plan  number vmail messages  total day minutes  total day calls  \\\n",
       "0             yes                     25              265.1              110   \n",
       "1             yes                     26              161.6              123   \n",
       "2              no                      0              243.4              114   \n",
       "3              no                      0              299.4               71   \n",
       "4              no                      0              166.7              113   \n",
       "\n",
       "   total day charge  ...  total eve calls  total eve charge  \\\n",
       "0             45.07  ...               99             16.78   \n",
       "1             27.47  ...              103             16.62   \n",
       "2             41.38  ...              110             10.30   \n",
       "3             50.90  ...               88              5.26   \n",
       "4             28.34  ...              122             12.61   \n",
       "\n",
       "   total night minutes  total night calls  total night charge  \\\n",
       "0                244.7                 91               11.01   \n",
       "1                254.4                103               11.45   \n",
       "2                162.6                104                7.32   \n",
       "3                196.9                 89                8.86   \n",
       "4                186.9                121                8.41   \n",
       "\n",
       "   total intl minutes  total intl calls  total intl charge  \\\n",
       "0                10.0                 3               2.70   \n",
       "1                13.7                 3               3.70   \n",
       "2                12.2                 5               3.29   \n",
       "3                 6.6                 7               1.78   \n",
       "4                10.1                 3               2.73   \n",
       "\n",
       "   customer service calls  churn  \n",
       "0                       1  False  \n",
       "1                       1  False  \n",
       "2                       0  False  \n",
       "3                       2  False  \n",
       "4                       3  False  \n",
       "\n",
       "[5 rows x 21 columns]"
      ]
     },
     "execution_count": 304,
     "metadata": {},
     "output_type": "execute_result"
    }
   ],
   "source": [
    "# Load the data into a dataframe and read the first five rows\n",
    "df = pd.read_csv('./data/SyriaTel_Customer_Churn_data.csv')\n",
    "df.head()"
   ]
  },
  {
   "cell_type": "markdown",
   "metadata": {},
   "source": [
    "#### Column/Feature Description"
   ]
  },
  {
   "cell_type": "code",
   "execution_count": 305,
   "metadata": {},
   "outputs": [
    {
     "data": {
      "text/plain": [
       "Index(['state', 'account length', 'area code', 'phone number',\n",
       "       'international plan', 'voice mail plan', 'number vmail messages',\n",
       "       'total day minutes', 'total day calls', 'total day charge',\n",
       "       'total eve minutes', 'total eve calls', 'total eve charge',\n",
       "       'total night minutes', 'total night calls', 'total night charge',\n",
       "       'total intl minutes', 'total intl calls', 'total intl charge',\n",
       "       'customer service calls', 'churn'],\n",
       "      dtype='object')"
      ]
     },
     "execution_count": 305,
     "metadata": {},
     "output_type": "execute_result"
    }
   ],
   "source": [
    "# Read the columns in the dataset\n",
    "df.columns"
   ]
  },
  {
   "cell_type": "markdown",
   "metadata": {},
   "source": [
    "### Summary of Features/Columns in the SyriaTel Customer Churn Datset\n",
    "* **state:** the state the customer lives in\n",
    "* **account length:** the number of days the customer has had an account\n",
    "* **area code:** the area code of the customer\n",
    "* **phone number:** the phone number of the customer\n",
    "* **international plan:** true if the customer has the international plan, otherwise false\n",
    "* **voice mail plan:** true if the customer has the voice mail plan, otherwise false\n",
    "* **number vmail messages:** the number of voicemails the customer has sent\n",
    "* **total day minutes:** total number of minutes the customer has been in calls during the day\n",
    "* **total day calls:** total number of calls the user has done during the day\n",
    "* **total day charge:** total amount of money the customer was charged by the Telecom company for calls during the day\n",
    "* **total eve minutes:** total number of minutes the customer has been in calls during the evening\n",
    "* **total eve calls:** total number of calls the customer has done during the evening\n",
    "* **total eve charge:** total amount of money the customer was charged by the Telecom company for calls during the evening\n",
    "* **total night minutes:** total number of minutes the customer has been in calls during the night\n",
    "* **total night calls:** total number of calls the customer has done during the night\n",
    "* **total night charge:** total amount of money the customer was charged by the Telecom company for calls during the night\n",
    "* **total intl minutes:** total number of minutes the user has been in international calls\n",
    "* **total intl calls:** total number of international calls the customer has done\n",
    "* **total intl charge:** total amount of money the customer was charged by the Telecom company for international calls\n",
    "* **customer service calls:** number of calls the customer has made to customer service\n",
    "* **churn:** true if the customer terminated their contract, otherwise false"
   ]
  },
  {
   "cell_type": "code",
   "execution_count": 306,
   "metadata": {},
   "outputs": [
    {
     "data": {
      "text/plain": [
       "(3333, 21)"
      ]
     },
     "execution_count": 306,
     "metadata": {},
     "output_type": "execute_result"
    }
   ],
   "source": [
    "# Gets the number of rows and columns in the dataset\n",
    "df.shape"
   ]
  },
  {
   "cell_type": "markdown",
   "metadata": {},
   "source": [
    "Dataset has 3333 rows and 21 columns"
   ]
  },
  {
   "cell_type": "markdown",
   "metadata": {},
   "source": [
    "Check the data type held by each column and number of non-null values"
   ]
  },
  {
   "cell_type": "code",
   "execution_count": 307,
   "metadata": {},
   "outputs": [
    {
     "name": "stdout",
     "output_type": "stream",
     "text": [
      "<class 'pandas.core.frame.DataFrame'>\n",
      "RangeIndex: 3333 entries, 0 to 3332\n",
      "Data columns (total 21 columns):\n",
      " #   Column                  Non-Null Count  Dtype  \n",
      "---  ------                  --------------  -----  \n",
      " 0   state                   3333 non-null   object \n",
      " 1   account length          3333 non-null   int64  \n",
      " 2   area code               3333 non-null   int64  \n",
      " 3   phone number            3333 non-null   object \n",
      " 4   international plan      3333 non-null   object \n",
      " 5   voice mail plan         3333 non-null   object \n",
      " 6   number vmail messages   3333 non-null   int64  \n",
      " 7   total day minutes       3333 non-null   float64\n",
      " 8   total day calls         3333 non-null   int64  \n",
      " 9   total day charge        3333 non-null   float64\n",
      " 10  total eve minutes       3333 non-null   float64\n",
      " 11  total eve calls         3333 non-null   int64  \n",
      " 12  total eve charge        3333 non-null   float64\n",
      " 13  total night minutes     3333 non-null   float64\n",
      " 14  total night calls       3333 non-null   int64  \n",
      " 15  total night charge      3333 non-null   float64\n",
      " 16  total intl minutes      3333 non-null   float64\n",
      " 17  total intl calls        3333 non-null   int64  \n",
      " 18  total intl charge       3333 non-null   float64\n",
      " 19  customer service calls  3333 non-null   int64  \n",
      " 20  churn                   3333 non-null   bool   \n",
      "dtypes: bool(1), float64(8), int64(8), object(4)\n",
      "memory usage: 524.2+ KB\n"
     ]
    }
   ],
   "source": [
    "# Check the data type held by each column and number of non-null values\n",
    "df.info()"
   ]
  },
  {
   "cell_type": "markdown",
   "metadata": {},
   "source": [
    "There are no null values in this dataset. Check for row duplicates below:"
   ]
  },
  {
   "cell_type": "code",
   "execution_count": 308,
   "metadata": {},
   "outputs": [
    {
     "data": {
      "text/plain": [
       "0"
      ]
     },
     "execution_count": 308,
     "metadata": {},
     "output_type": "execute_result"
    }
   ],
   "source": [
    "# Checks for row duplicates\n",
    "df.duplicated().sum()"
   ]
  },
  {
   "cell_type": "markdown",
   "metadata": {},
   "source": [
    "### Feature Selection"
   ]
  },
  {
   "cell_type": "markdown",
   "metadata": {},
   "source": [
    "For feature selection, I'll first divide the dataset features into continous and categorical features."
   ]
  },
  {
   "cell_type": "code",
   "execution_count": 309,
   "metadata": {},
   "outputs": [
    {
     "data": {
      "text/plain": [
       "state                       51\n",
       "account length             212\n",
       "area code                    3\n",
       "phone number              3333\n",
       "international plan           2\n",
       "voice mail plan              2\n",
       "number vmail messages       46\n",
       "total day minutes         1667\n",
       "total day calls            119\n",
       "total day charge          1667\n",
       "total eve minutes         1611\n",
       "total eve calls            123\n",
       "total eve charge          1440\n",
       "total night minutes       1591\n",
       "total night calls          120\n",
       "total night charge         933\n",
       "total intl minutes         162\n",
       "total intl calls            21\n",
       "total intl charge          162\n",
       "customer service calls      10\n",
       "churn                        2\n",
       "dtype: int64"
      ]
     },
     "execution_count": 309,
     "metadata": {},
     "output_type": "execute_result"
    }
   ],
   "source": [
    "df.nunique()"
   ]
  },
  {
   "cell_type": "markdown",
   "metadata": {},
   "source": [
    "#### Continuous Features:\n",
    "* account length\n",
    "* number vmail messages\n",
    "* total day minutes\n",
    "* total day calls\n",
    "* total day charge\n",
    "* total eve minutes\n",
    "* total eve calls\n",
    "* total eve charge\n",
    "* total night minutes \n",
    "* total night calls\n",
    "* total night charge\n",
    "* total intl minutes\n",
    "* total intl charge\n",
    "* customer service calls\n",
    "\n",
    "#### Categorical Features:\n",
    "* churn\n",
    "* state\n",
    "* area code\n",
    "* international plan\n",
    "* voicemail plan"
   ]
  },
  {
   "cell_type": "code",
   "execution_count": 310,
   "metadata": {
    "execution": {
     "iopub.execute_input": "2023-09-19T07:33:59.567913Z",
     "iopub.status.busy": "2023-09-19T07:33:59.566382Z",
     "iopub.status.idle": "2023-09-19T07:33:59.573973Z",
     "shell.execute_reply": "2023-09-19T07:33:59.572936Z",
     "shell.execute_reply.started": "2023-09-19T07:33:59.567871Z"
    },
    "trusted": true
   },
   "outputs": [],
   "source": [
    "# Create numeric & categorical lists\n",
    "numerical_cols = ['account length','number vmail messages','total day minutes','total day calls','total day charge',\n",
    "                'total eve minutes','total eve calls','total eve charge','total night minutes','total night calls',\n",
    "                'total night charge','total intl minutes','total intl calls','total intl charge','customer service calls']\n",
    "categorical_cols = ['state', 'area code','international plan','voice mail plan']"
   ]
  },
  {
   "cell_type": "markdown",
   "metadata": {},
   "source": [
    "Phone number is a unique value for all customers and won't add any value to the analysis, so drop that feature."
   ]
  },
  {
   "cell_type": "code",
   "execution_count": 311,
   "metadata": {},
   "outputs": [],
   "source": [
    "df.drop(['phone number'], inplace=True, axis=1)"
   ]
  },
  {
   "cell_type": "markdown",
   "metadata": {},
   "source": [
    "#### Categorical Features Analysis"
   ]
  },
  {
   "cell_type": "markdown",
   "metadata": {},
   "source": [
    "#### Analysis 1: Explore the Impact of Categorical Features on Customer Churn:"
   ]
  },
  {
   "cell_type": "markdown",
   "metadata": {},
   "source": [
    "This section analyzes the impact of the categorical features(state, area code, international plan, voicemail plan) on the target feature (churn)."
   ]
  },
  {
   "cell_type": "code",
   "execution_count": 312,
   "metadata": {},
   "outputs": [
    {
     "name": "stdout",
     "output_type": "stream",
     "text": [
      "415    0.496550\n",
      "510    0.252025\n",
      "408    0.251425\n",
      "Name: area code, dtype: float64\n",
      "no     0.90309\n",
      "yes    0.09691\n",
      "Name: international plan, dtype: float64\n",
      "no     0.723372\n",
      "yes    0.276628\n",
      "Name: voice mail plan, dtype: float64\n"
     ]
    }
   ],
   "source": [
    "# Check the distribution of values in the categorical features\n",
    "for col in categorical_cols:\n",
    "    if col == 'state':\n",
    "         continue\n",
    "    print(df[col].value_counts(normalize='index'))"
   ]
  },
  {
   "cell_type": "code",
   "execution_count": 313,
   "metadata": {},
   "outputs": [
    {
     "name": "stdout",
     "output_type": "stream",
     "text": [
      "Distribution for area code:\n",
      "churn         False     True \n",
      "area code                    \n",
      "408        0.854415  0.145585\n",
      "415        0.857402  0.142598\n",
      "510        0.851190  0.148810\n",
      "\n",
      "\n",
      "Distribution for international plan:\n",
      "churn                  False     True \n",
      "international plan                    \n",
      "no                  0.885050  0.114950\n",
      "yes                 0.575851  0.424149\n",
      "\n",
      "\n",
      "Distribution for voice mail plan:\n",
      "churn               False     True \n",
      "voice mail plan                    \n",
      "no               0.832849  0.167151\n",
      "yes              0.913232  0.086768\n",
      "\n",
      "\n",
      "Distribution for State:\n",
      "churn     False     True \n",
      "state                    \n",
      "AK     0.942308  0.057692\n",
      "AL     0.900000  0.100000\n",
      "AR     0.800000  0.200000\n",
      "AZ     0.937500  0.062500\n",
      "CA     0.735294  0.264706\n",
      "CO     0.863636  0.136364\n",
      "CT     0.837838  0.162162\n",
      "DC     0.907407  0.092593\n",
      "DE     0.852459  0.147541\n",
      "FL     0.873016  0.126984\n",
      "GA     0.851852  0.148148\n",
      "HI     0.943396  0.056604\n",
      "IA     0.931818  0.068182\n",
      "ID     0.876712  0.123288\n",
      "IL     0.913793  0.086207\n",
      "IN     0.873239  0.126761\n",
      "KS     0.814286  0.185714\n",
      "KY     0.864407  0.135593\n",
      "LA     0.921569  0.078431\n",
      "MA     0.830769  0.169231\n",
      "MD     0.757143  0.242857\n",
      "ME     0.790323  0.209677\n",
      "MI     0.780822  0.219178\n",
      "MN     0.821429  0.178571\n",
      "MO     0.888889  0.111111\n",
      "MS     0.784615  0.215385\n",
      "MT     0.794118  0.205882\n",
      "NC     0.838235  0.161765\n",
      "ND     0.903226  0.096774\n",
      "NE     0.918033  0.081967\n",
      "NH     0.839286  0.160714\n",
      "NJ     0.735294  0.264706\n",
      "NM     0.903226  0.096774\n",
      "NV     0.787879  0.212121\n",
      "NY     0.819277  0.180723\n",
      "OH     0.871795  0.128205\n",
      "OK     0.852459  0.147541\n",
      "OR     0.858974  0.141026\n",
      "PA     0.822222  0.177778\n",
      "RI     0.907692  0.092308\n",
      "SC     0.766667  0.233333\n",
      "SD     0.866667  0.133333\n",
      "TN     0.905660  0.094340\n",
      "TX     0.750000  0.250000\n",
      "UT     0.861111  0.138889\n",
      "VA     0.935065  0.064935\n",
      "VT     0.890411  0.109589\n",
      "WA     0.787879  0.212121\n",
      "WI     0.910256  0.089744\n",
      "WV     0.905660  0.094340\n",
      "WY     0.883117  0.116883\n"
     ]
    }
   ],
   "source": [
    "# Checks the distribution of customer churn in the categoric features.\n",
    "for col in categorical_cols:\n",
    "    if col == 'state':\n",
    "         continue\n",
    "    crosstab = pd.crosstab(df[col], df['churn'], normalize=\"index\")\n",
    "    print(f\"Distribution for {col}:\")\n",
    "    print(crosstab)\n",
    "    print(\"\\n\")\n",
    "state_crosstab = pd.crosstab(df['state'], df['churn'], normalize=\"index\")\n",
    "print(f\"Distribution for State:\")\n",
    "print(state_crosstab)"
   ]
  },
  {
   "cell_type": "code",
   "execution_count": 314,
   "metadata": {},
   "outputs": [
    {
     "data": {
      "image/png": "[encoded data removed]",
      "text/plain": [
       "<Figure size 720x432 with 1 Axes>"
      ]
     },
     "metadata": {
      "needs_background": "light"
     },
     "output_type": "display_data"
    },
    {
     "data": {
      "image/png": "[encoded data removed]",
      "text/plain": [
       "<Figure size 720x432 with 1 Axes>"
      ]
     },
     "metadata": {
      "needs_background": "light"
     },
     "output_type": "display_data"
    },
    {
     "data": {
      "image/png": "[encoded data removed]",
      "text/plain": [
       "<Figure size 720x432 with 1 Axes>"
      ]
     },
     "metadata": {
      "needs_background": "light"
     },
     "output_type": "display_data"
    },
    {
     "data": {
      "image/png": "[encoded data removed]",
      "text/plain": [
       "<Figure size 720x432 with 1 Axes>"
      ]
     },
     "metadata": {
      "needs_background": "light"
     },
     "output_type": "display_data"
    }
   ],
   "source": [
    "# Visualization of customer churn in each categoric feature\n",
    "for col in categorical_cols:\n",
    "    crosstab = pd.crosstab(df[col], df['churn'])\n",
    "    crosstab.plot(kind='bar', stacked=True, figsize=(10, 6))\n",
    "    plt.title(f'Stacked Bar Chart of Churn within {col}')\n",
    "    plt.ylabel('Count')\n",
    "    plt.show()"
   ]
  },
  {
   "cell_type": "markdown",
   "metadata": {},
   "source": [
    "**Observation:**\n",
    "\n",
    " From the visualizations above, 42% of the customers with an international plan left SyriaTel incomparison to 11% of those that don't have an international plan. Syriatel should focus on boosting international calls to improve customer satisfaction for those with international plans.\n",
    "\n",
    "The customer churn for those without a voice mail plan is higher than the customers with a plan, at 16% versus 8%. There is no impact of area codes on customer churn, though 50% of the data is from Area code 415."
   ]
  },
  {
   "cell_type": "markdown",
   "metadata": {},
   "source": [
    "#### Numeric Features Analysis"
   ]
  },
  {
   "cell_type": "markdown",
   "metadata": {},
   "source": [
    "#### Analysis 2: Explore the Impact of Numeric Features on Customer Churn:"
   ]
  },
  {
   "cell_type": "code",
   "execution_count": 315,
   "metadata": {},
   "outputs": [
    {
     "data": {
      "image/png": "[encoded data removed]",
      "text/plain": [
       "<Figure size 864x576 with 1 Axes>"
      ]
     },
     "metadata": {
      "needs_background": "light"
     },
     "output_type": "display_data"
    },
    {
     "name": "stdout",
     "output_type": "stream",
     "text": [
      "Percentage distribution of numerical columns grouped by churn:\n",
      "       account length  number vmail messages  total day minutes  \\\n",
      "churn                                                             \n",
      "False       85.279161              90.846114          83.320911   \n",
      "True        14.720839               9.153886          16.679089   \n",
      "\n",
      "       total day calls  total day charge  total eve minutes  total eve calls  \\\n",
      "churn                                                                          \n",
      "False        85.378728         83.320956          84.684419        85.443882   \n",
      "True         14.621272         16.679044          15.315581        14.556118   \n",
      "\n",
      "       total eve charge  total night minutes  total night calls  \\\n",
      "churn                                                             \n",
      "False         84.684517            85.194035          85.466299   \n",
      "True          15.315483            14.805965          14.533701   \n",
      "\n",
      "       total night charge  total intl minutes  total intl calls  \\\n",
      "churn                                                             \n",
      "False           85.194007           84.853565         86.530476   \n",
      "True            14.805993           15.146435         13.469524   \n",
      "\n",
      "       total intl charge  customer service calls  \n",
      "churn                                             \n",
      "False          84.853517               79.324246  \n",
      "True           15.146483               20.675754  \n"
     ]
    }
   ],
   "source": [
    "\n",
    "import matplotlib.pyplot as plt\n",
    "summed_data = df.groupby('churn')[numerical_cols].sum()\n",
    "percentage_data = summed_data.div(summed_data.sum(axis=0), axis=1) * 100\n",
    "percentage_data.T.plot(kind='bar', figsize=(12, 8))\n",
    "plt.title('Sum of Numerical Features Grouped by Churn')\n",
    "plt.ylabel('Sum')\n",
    "plt.xlabel('Numerical Features')\n",
    "plt.xticks(rotation=45)\n",
    "plt.legend(title='Churn', labels=['No Churn', 'Churn'])\n",
    "plt.show()\n",
    "print(\"Percentage distribution of numerical columns grouped by churn:\")\n",
    "print(percentage_data)"
   ]
  },
  {
   "cell_type": "markdown",
   "metadata": {},
   "source": [
    "**Observation:**\n",
    "\n",
    "From the chart above, the most significant numeric value on customer churn is customer service calls. Customers with more service call are more likely to discontinue their service with SyriaTel."
   ]
  },
  {
   "cell_type": "markdown",
   "metadata": {},
   "source": [
    "### Correlation Heatmap for Numeric Features"
   ]
  },
  {
   "cell_type": "code",
   "execution_count": 316,
   "metadata": {
    "execution": {
     "iopub.execute_input": "2023-09-19T07:34:18.743042Z",
     "iopub.status.busy": "2023-09-19T07:34:18.742582Z",
     "iopub.status.idle": "2023-09-19T07:34:20.167495Z",
     "shell.execute_reply": "2023-09-19T07:34:20.166645Z",
     "shell.execute_reply.started": "2023-09-19T07:34:18.743003Z"
    },
    "trusted": true
   },
   "outputs": [
    {
     "data": {
      "image/png": "[encoded data removed]",
      "text/plain": [
       "<Figure size 1080x864 with 2 Axes>"
      ]
     },
     "metadata": {
      "needs_background": "light"
     },
     "output_type": "display_data"
    }
   ],
   "source": [
    "\n",
    "plt.subplots(figsize=(15,12))\n",
    "sns.heatmap(df[numerical_cols].corr(), annot=True, cmap='coolwarm')\n",
    "plt.xticks(rotation=90)\n",
    "plt.show()"
   ]
  },
  {
   "cell_type": "markdown",
   "metadata": {},
   "source": [
    "Some of the numeric features have perfect correlation since the values in one column are derived from the other column:\n",
    "\n",
    "* Total day charge and total day minutes.\n",
    "* Total eve charge and total eve minutes.\n",
    "* Total night charge and total night minutes. \n",
    "* Total intl charge and total intl minutes. \n",
    "\n",
    "I'll drop the columns with minutes and remain with the columns with charges."
   ]
  },
  {
   "cell_type": "code",
   "execution_count": 317,
   "metadata": {},
   "outputs": [
    {
     "data": {
      "text/plain": [
       "(3333, 16)"
      ]
     },
     "execution_count": 317,
     "metadata": {},
     "output_type": "execute_result"
    }
   ],
   "source": [
    "df.drop(['total intl minutes', 'total eve minutes', 'total night minutes', 'total day minutes'], axis=1, inplace=True)\n",
    "df.shape"
   ]
  },
  {
   "cell_type": "markdown",
   "metadata": {},
   "source": [
    "### Train-Test Split "
   ]
  },
  {
   "cell_type": "code",
   "execution_count": 318,
   "metadata": {},
   "outputs": [],
   "source": [
    "# Split the data into training and testing data at 80,20 ratio\n",
    "df['churn'] = df['churn'].map({True: 1, False: 0}).astype('int') \n",
    "X = df.drop(['churn'], axis=1)\n",
    "y = df['churn']\n",
    "\n",
    "X_train,X_test,y_train,y_test = train_test_split(X, y, test_size=0.2, random_state=42)\n"
   ]
  },
  {
   "cell_type": "markdown",
   "metadata": {},
   "source": [
    "### Preprocessing"
   ]
  },
  {
   "cell_type": "markdown",
   "metadata": {},
   "source": [
    "I've used onehotencoder to convert each categorical value into a new binary column with 0 or 1 for each unique value."
   ]
  },
  {
   "cell_type": "code",
   "execution_count": 327,
   "metadata": {},
   "outputs": [
    {
     "data": {
      "text/html": [
       "<div>\n",
       "<style scoped>\n",
       "    .dataframe tbody tr th:only-of-type {\n",
       "        vertical-align: middle;\n",
       "    }\n",
       "\n",
       "    .dataframe tbody tr th {\n",
       "        vertical-align: top;\n",
       "    }\n",
       "\n",
       "    .dataframe thead th {\n",
       "        text-align: right;\n",
       "    }\n",
       "</style>\n",
       "<table border=\"1\" class=\"dataframe\">\n",
       "  <thead>\n",
       "    <tr style=\"text-align: right;\">\n",
       "      <th></th>\n",
       "      <th>state_AK</th>\n",
       "      <th>state_AL</th>\n",
       "      <th>state_AR</th>\n",
       "      <th>state_AZ</th>\n",
       "      <th>state_CA</th>\n",
       "      <th>state_CO</th>\n",
       "      <th>state_CT</th>\n",
       "      <th>state_DC</th>\n",
       "      <th>state_DE</th>\n",
       "      <th>state_FL</th>\n",
       "      <th>...</th>\n",
       "      <th>state_WI</th>\n",
       "      <th>state_WV</th>\n",
       "      <th>state_WY</th>\n",
       "      <th>area code_408</th>\n",
       "      <th>area code_415</th>\n",
       "      <th>area code_510</th>\n",
       "      <th>international plan_no</th>\n",
       "      <th>international plan_yes</th>\n",
       "      <th>voice mail plan_no</th>\n",
       "      <th>voice mail plan_yes</th>\n",
       "    </tr>\n",
       "  </thead>\n",
       "  <tbody>\n",
       "    <tr>\n",
       "      <th>817</th>\n",
       "      <td>0.0</td>\n",
       "      <td>0.0</td>\n",
       "      <td>0.0</td>\n",
       "      <td>0.0</td>\n",
       "      <td>0.0</td>\n",
       "      <td>0.0</td>\n",
       "      <td>0.0</td>\n",
       "      <td>0.0</td>\n",
       "      <td>0.0</td>\n",
       "      <td>0.0</td>\n",
       "      <td>...</td>\n",
       "      <td>0.0</td>\n",
       "      <td>0.0</td>\n",
       "      <td>0.0</td>\n",
       "      <td>0.0</td>\n",
       "      <td>0.0</td>\n",
       "      <td>1.0</td>\n",
       "      <td>1.0</td>\n",
       "      <td>0.0</td>\n",
       "      <td>1.0</td>\n",
       "      <td>0.0</td>\n",
       "    </tr>\n",
       "    <tr>\n",
       "      <th>1373</th>\n",
       "      <td>0.0</td>\n",
       "      <td>0.0</td>\n",
       "      <td>0.0</td>\n",
       "      <td>0.0</td>\n",
       "      <td>0.0</td>\n",
       "      <td>0.0</td>\n",
       "      <td>0.0</td>\n",
       "      <td>0.0</td>\n",
       "      <td>0.0</td>\n",
       "      <td>0.0</td>\n",
       "      <td>...</td>\n",
       "      <td>0.0</td>\n",
       "      <td>0.0</td>\n",
       "      <td>0.0</td>\n",
       "      <td>0.0</td>\n",
       "      <td>1.0</td>\n",
       "      <td>0.0</td>\n",
       "      <td>1.0</td>\n",
       "      <td>0.0</td>\n",
       "      <td>1.0</td>\n",
       "      <td>0.0</td>\n",
       "    </tr>\n",
       "    <tr>\n",
       "      <th>679</th>\n",
       "      <td>0.0</td>\n",
       "      <td>0.0</td>\n",
       "      <td>0.0</td>\n",
       "      <td>0.0</td>\n",
       "      <td>0.0</td>\n",
       "      <td>0.0</td>\n",
       "      <td>0.0</td>\n",
       "      <td>0.0</td>\n",
       "      <td>0.0</td>\n",
       "      <td>0.0</td>\n",
       "      <td>...</td>\n",
       "      <td>0.0</td>\n",
       "      <td>0.0</td>\n",
       "      <td>0.0</td>\n",
       "      <td>0.0</td>\n",
       "      <td>1.0</td>\n",
       "      <td>0.0</td>\n",
       "      <td>0.0</td>\n",
       "      <td>1.0</td>\n",
       "      <td>1.0</td>\n",
       "      <td>0.0</td>\n",
       "    </tr>\n",
       "    <tr>\n",
       "      <th>56</th>\n",
       "      <td>0.0</td>\n",
       "      <td>0.0</td>\n",
       "      <td>0.0</td>\n",
       "      <td>0.0</td>\n",
       "      <td>0.0</td>\n",
       "      <td>1.0</td>\n",
       "      <td>0.0</td>\n",
       "      <td>0.0</td>\n",
       "      <td>0.0</td>\n",
       "      <td>0.0</td>\n",
       "      <td>...</td>\n",
       "      <td>0.0</td>\n",
       "      <td>0.0</td>\n",
       "      <td>0.0</td>\n",
       "      <td>0.0</td>\n",
       "      <td>1.0</td>\n",
       "      <td>0.0</td>\n",
       "      <td>1.0</td>\n",
       "      <td>0.0</td>\n",
       "      <td>1.0</td>\n",
       "      <td>0.0</td>\n",
       "    </tr>\n",
       "    <tr>\n",
       "      <th>1993</th>\n",
       "      <td>0.0</td>\n",
       "      <td>0.0</td>\n",
       "      <td>0.0</td>\n",
       "      <td>0.0</td>\n",
       "      <td>0.0</td>\n",
       "      <td>0.0</td>\n",
       "      <td>0.0</td>\n",
       "      <td>0.0</td>\n",
       "      <td>0.0</td>\n",
       "      <td>0.0</td>\n",
       "      <td>...</td>\n",
       "      <td>0.0</td>\n",
       "      <td>0.0</td>\n",
       "      <td>0.0</td>\n",
       "      <td>0.0</td>\n",
       "      <td>0.0</td>\n",
       "      <td>1.0</td>\n",
       "      <td>1.0</td>\n",
       "      <td>0.0</td>\n",
       "      <td>1.0</td>\n",
       "      <td>0.0</td>\n",
       "    </tr>\n",
       "    <tr>\n",
       "      <th>...</th>\n",
       "      <td>...</td>\n",
       "      <td>...</td>\n",
       "      <td>...</td>\n",
       "      <td>...</td>\n",
       "      <td>...</td>\n",
       "      <td>...</td>\n",
       "      <td>...</td>\n",
       "      <td>...</td>\n",
       "      <td>...</td>\n",
       "      <td>...</td>\n",
       "      <td>...</td>\n",
       "      <td>...</td>\n",
       "      <td>...</td>\n",
       "      <td>...</td>\n",
       "      <td>...</td>\n",
       "      <td>...</td>\n",
       "      <td>...</td>\n",
       "      <td>...</td>\n",
       "      <td>...</td>\n",
       "      <td>...</td>\n",
       "      <td>...</td>\n",
       "    </tr>\n",
       "    <tr>\n",
       "      <th>1095</th>\n",
       "      <td>0.0</td>\n",
       "      <td>0.0</td>\n",
       "      <td>0.0</td>\n",
       "      <td>0.0</td>\n",
       "      <td>0.0</td>\n",
       "      <td>0.0</td>\n",
       "      <td>0.0</td>\n",
       "      <td>0.0</td>\n",
       "      <td>0.0</td>\n",
       "      <td>0.0</td>\n",
       "      <td>...</td>\n",
       "      <td>0.0</td>\n",
       "      <td>0.0</td>\n",
       "      <td>0.0</td>\n",
       "      <td>0.0</td>\n",
       "      <td>0.0</td>\n",
       "      <td>1.0</td>\n",
       "      <td>1.0</td>\n",
       "      <td>0.0</td>\n",
       "      <td>1.0</td>\n",
       "      <td>0.0</td>\n",
       "    </tr>\n",
       "    <tr>\n",
       "      <th>1130</th>\n",
       "      <td>0.0</td>\n",
       "      <td>0.0</td>\n",
       "      <td>0.0</td>\n",
       "      <td>0.0</td>\n",
       "      <td>0.0</td>\n",
       "      <td>0.0</td>\n",
       "      <td>0.0</td>\n",
       "      <td>0.0</td>\n",
       "      <td>0.0</td>\n",
       "      <td>0.0</td>\n",
       "      <td>...</td>\n",
       "      <td>0.0</td>\n",
       "      <td>0.0</td>\n",
       "      <td>0.0</td>\n",
       "      <td>0.0</td>\n",
       "      <td>1.0</td>\n",
       "      <td>0.0</td>\n",
       "      <td>1.0</td>\n",
       "      <td>0.0</td>\n",
       "      <td>1.0</td>\n",
       "      <td>0.0</td>\n",
       "    </tr>\n",
       "    <tr>\n",
       "      <th>1294</th>\n",
       "      <td>0.0</td>\n",
       "      <td>0.0</td>\n",
       "      <td>0.0</td>\n",
       "      <td>0.0</td>\n",
       "      <td>0.0</td>\n",
       "      <td>0.0</td>\n",
       "      <td>0.0</td>\n",
       "      <td>0.0</td>\n",
       "      <td>0.0</td>\n",
       "      <td>0.0</td>\n",
       "      <td>...</td>\n",
       "      <td>0.0</td>\n",
       "      <td>0.0</td>\n",
       "      <td>0.0</td>\n",
       "      <td>1.0</td>\n",
       "      <td>0.0</td>\n",
       "      <td>0.0</td>\n",
       "      <td>1.0</td>\n",
       "      <td>0.0</td>\n",
       "      <td>1.0</td>\n",
       "      <td>0.0</td>\n",
       "    </tr>\n",
       "    <tr>\n",
       "      <th>860</th>\n",
       "      <td>0.0</td>\n",
       "      <td>0.0</td>\n",
       "      <td>0.0</td>\n",
       "      <td>0.0</td>\n",
       "      <td>0.0</td>\n",
       "      <td>0.0</td>\n",
       "      <td>0.0</td>\n",
       "      <td>0.0</td>\n",
       "      <td>0.0</td>\n",
       "      <td>0.0</td>\n",
       "      <td>...</td>\n",
       "      <td>0.0</td>\n",
       "      <td>0.0</td>\n",
       "      <td>0.0</td>\n",
       "      <td>0.0</td>\n",
       "      <td>1.0</td>\n",
       "      <td>0.0</td>\n",
       "      <td>1.0</td>\n",
       "      <td>0.0</td>\n",
       "      <td>1.0</td>\n",
       "      <td>0.0</td>\n",
       "    </tr>\n",
       "    <tr>\n",
       "      <th>3174</th>\n",
       "      <td>0.0</td>\n",
       "      <td>0.0</td>\n",
       "      <td>0.0</td>\n",
       "      <td>0.0</td>\n",
       "      <td>0.0</td>\n",
       "      <td>0.0</td>\n",
       "      <td>0.0</td>\n",
       "      <td>0.0</td>\n",
       "      <td>0.0</td>\n",
       "      <td>0.0</td>\n",
       "      <td>...</td>\n",
       "      <td>0.0</td>\n",
       "      <td>0.0</td>\n",
       "      <td>0.0</td>\n",
       "      <td>1.0</td>\n",
       "      <td>0.0</td>\n",
       "      <td>0.0</td>\n",
       "      <td>1.0</td>\n",
       "      <td>0.0</td>\n",
       "      <td>0.0</td>\n",
       "      <td>1.0</td>\n",
       "    </tr>\n",
       "  </tbody>\n",
       "</table>\n",
       "<p>2666 rows × 58 columns</p>\n",
       "</div>"
      ],
      "text/plain": [
       "      state_AK  state_AL  state_AR  state_AZ  state_CA  state_CO  state_CT  \\\n",
       "817        0.0       0.0       0.0       0.0       0.0       0.0       0.0   \n",
       "1373       0.0       0.0       0.0       0.0       0.0       0.0       0.0   \n",
       "679        0.0       0.0       0.0       0.0       0.0       0.0       0.0   \n",
       "56         0.0       0.0       0.0       0.0       0.0       1.0       0.0   \n",
       "1993       0.0       0.0       0.0       0.0       0.0       0.0       0.0   \n",
       "...        ...       ...       ...       ...       ...       ...       ...   \n",
       "1095       0.0       0.0       0.0       0.0       0.0       0.0       0.0   \n",
       "1130       0.0       0.0       0.0       0.0       0.0       0.0       0.0   \n",
       "1294       0.0       0.0       0.0       0.0       0.0       0.0       0.0   \n",
       "860        0.0       0.0       0.0       0.0       0.0       0.0       0.0   \n",
       "3174       0.0       0.0       0.0       0.0       0.0       0.0       0.0   \n",
       "\n",
       "      state_DC  state_DE  state_FL  ...  state_WI  state_WV  state_WY  \\\n",
       "817        0.0       0.0       0.0  ...       0.0       0.0       0.0   \n",
       "1373       0.0       0.0       0.0  ...       0.0       0.0       0.0   \n",
       "679        0.0       0.0       0.0  ...       0.0       0.0       0.0   \n",
       "56         0.0       0.0       0.0  ...       0.0       0.0       0.0   \n",
       "1993       0.0       0.0       0.0  ...       0.0       0.0       0.0   \n",
       "...        ...       ...       ...  ...       ...       ...       ...   \n",
       "1095       0.0       0.0       0.0  ...       0.0       0.0       0.0   \n",
       "1130       0.0       0.0       0.0  ...       0.0       0.0       0.0   \n",
       "1294       0.0       0.0       0.0  ...       0.0       0.0       0.0   \n",
       "860        0.0       0.0       0.0  ...       0.0       0.0       0.0   \n",
       "3174       0.0       0.0       0.0  ...       0.0       0.0       0.0   \n",
       "\n",
       "      area code_408  area code_415  area code_510  international plan_no  \\\n",
       "817             0.0            0.0            1.0                    1.0   \n",
       "1373            0.0            1.0            0.0                    1.0   \n",
       "679             0.0            1.0            0.0                    0.0   \n",
       "56              0.0            1.0            0.0                    1.0   \n",
       "1993            0.0            0.0            1.0                    1.0   \n",
       "...             ...            ...            ...                    ...   \n",
       "1095            0.0            0.0            1.0                    1.0   \n",
       "1130            0.0            1.0            0.0                    1.0   \n",
       "1294            1.0            0.0            0.0                    1.0   \n",
       "860             0.0            1.0            0.0                    1.0   \n",
       "3174            1.0            0.0            0.0                    1.0   \n",
       "\n",
       "      international plan_yes  voice mail plan_no  voice mail plan_yes  \n",
       "817                      0.0                 1.0                  0.0  \n",
       "1373                     0.0                 1.0                  0.0  \n",
       "679                      1.0                 1.0                  0.0  \n",
       "56                       0.0                 1.0                  0.0  \n",
       "1993                     0.0                 1.0                  0.0  \n",
       "...                      ...                 ...                  ...  \n",
       "1095                     0.0                 1.0                  0.0  \n",
       "1130                     0.0                 1.0                  0.0  \n",
       "1294                     0.0                 1.0                  0.0  \n",
       "860                      0.0                 1.0                  0.0  \n",
       "3174                     0.0                 0.0                  1.0  \n",
       "\n",
       "[2666 rows x 58 columns]"
      ]
     },
     "execution_count": 327,
     "metadata": {},
     "output_type": "execute_result"
    }
   ],
   "source": [
    "X_train_categorical = X_train[['state','area code','international plan','voice mail plan']]\n",
    "ohe = OneHotEncoder(handle_unknown='ignore', sparse_output=False)\n",
    "\n",
    "ohe.fit(X_train_categorical)\n",
    "# Create new column names with prefixes\n",
    "new_column_names = []\n",
    "for col, categories in zip(X_train_categorical.columns, ohe.categories_):\n",
    "    new_column_names.extend([f\"{col}_{category}\" for category in categories])\n",
    "\n",
    "# Create the DataFrame with the new column names\n",
    "X_train_ohe = pd.DataFrame(\n",
    "    ohe.transform(X_train_categorical),\n",
    "    index=X_train_categorical.index,\n",
    "    columns=new_column_names\n",
    ")\n",
    "\n",
    "X_train_ohe"
   ]
  },
  {
   "cell_type": "markdown",
   "metadata": {},
   "source": [
    "### Normalization"
   ]
  },
  {
   "cell_type": "code",
   "execution_count": 320,
   "metadata": {},
   "outputs": [
    {
     "data": {
      "text/html": [
       "<div>\n",
       "<style scoped>\n",
       "    .dataframe tbody tr th:only-of-type {\n",
       "        vertical-align: middle;\n",
       "    }\n",
       "\n",
       "    .dataframe tbody tr th {\n",
       "        vertical-align: top;\n",
       "    }\n",
       "\n",
       "    .dataframe thead th {\n",
       "        text-align: right;\n",
       "    }\n",
       "</style>\n",
       "<table border=\"1\" class=\"dataframe\">\n",
       "  <thead>\n",
       "    <tr style=\"text-align: right;\">\n",
       "      <th></th>\n",
       "      <th>account length</th>\n",
       "      <th>number vmail messages</th>\n",
       "      <th>total day calls</th>\n",
       "      <th>total day charge</th>\n",
       "      <th>total eve calls</th>\n",
       "      <th>total eve charge</th>\n",
       "      <th>total night calls</th>\n",
       "      <th>total night charge</th>\n",
       "      <th>total intl calls</th>\n",
       "      <th>total intl charge</th>\n",
       "      <th>customer service calls</th>\n",
       "    </tr>\n",
       "  </thead>\n",
       "  <tbody>\n",
       "    <tr>\n",
       "      <th>817</th>\n",
       "      <td>1.000000</td>\n",
       "      <td>0.000000</td>\n",
       "      <td>0.459259</td>\n",
       "      <td>0.266892</td>\n",
       "      <td>0.370588</td>\n",
       "      <td>0.450016</td>\n",
       "      <td>0.598592</td>\n",
       "      <td>0.648536</td>\n",
       "      <td>0.315789</td>\n",
       "      <td>0.329630</td>\n",
       "      <td>0.222222</td>\n",
       "    </tr>\n",
       "    <tr>\n",
       "      <th>1373</th>\n",
       "      <td>0.442149</td>\n",
       "      <td>0.000000</td>\n",
       "      <td>0.555556</td>\n",
       "      <td>0.314189</td>\n",
       "      <td>0.647059</td>\n",
       "      <td>0.532514</td>\n",
       "      <td>0.422535</td>\n",
       "      <td>0.499701</td>\n",
       "      <td>0.210526</td>\n",
       "      <td>0.205556</td>\n",
       "      <td>0.444444</td>\n",
       "    </tr>\n",
       "    <tr>\n",
       "      <th>679</th>\n",
       "      <td>0.305785</td>\n",
       "      <td>0.000000</td>\n",
       "      <td>0.355556</td>\n",
       "      <td>0.631250</td>\n",
       "      <td>0.652941</td>\n",
       "      <td>0.899385</td>\n",
       "      <td>0.500000</td>\n",
       "      <td>0.497310</td>\n",
       "      <td>0.473684</td>\n",
       "      <td>0.435185</td>\n",
       "      <td>0.111111</td>\n",
       "    </tr>\n",
       "    <tr>\n",
       "      <th>56</th>\n",
       "      <td>0.578512</td>\n",
       "      <td>0.000000</td>\n",
       "      <td>0.503704</td>\n",
       "      <td>0.356926</td>\n",
       "      <td>0.364706</td>\n",
       "      <td>0.494985</td>\n",
       "      <td>0.669014</td>\n",
       "      <td>0.316796</td>\n",
       "      <td>0.105263</td>\n",
       "      <td>0.400000</td>\n",
       "      <td>0.111111</td>\n",
       "    </tr>\n",
       "    <tr>\n",
       "      <th>1993</th>\n",
       "      <td>0.351240</td>\n",
       "      <td>0.000000</td>\n",
       "      <td>0.488889</td>\n",
       "      <td>0.613682</td>\n",
       "      <td>0.452941</td>\n",
       "      <td>0.732449</td>\n",
       "      <td>0.542254</td>\n",
       "      <td>0.513449</td>\n",
       "      <td>0.157895</td>\n",
       "      <td>0.225926</td>\n",
       "      <td>0.000000</td>\n",
       "    </tr>\n",
       "    <tr>\n",
       "      <th>...</th>\n",
       "      <td>...</td>\n",
       "      <td>...</td>\n",
       "      <td>...</td>\n",
       "      <td>...</td>\n",
       "      <td>...</td>\n",
       "      <td>...</td>\n",
       "      <td>...</td>\n",
       "      <td>...</td>\n",
       "      <td>...</td>\n",
       "      <td>...</td>\n",
       "      <td>...</td>\n",
       "    </tr>\n",
       "    <tr>\n",
       "      <th>1095</th>\n",
       "      <td>0.433884</td>\n",
       "      <td>0.000000</td>\n",
       "      <td>0.666667</td>\n",
       "      <td>0.780574</td>\n",
       "      <td>0.482353</td>\n",
       "      <td>0.546102</td>\n",
       "      <td>0.204225</td>\n",
       "      <td>0.370592</td>\n",
       "      <td>0.157895</td>\n",
       "      <td>0.300000</td>\n",
       "      <td>0.111111</td>\n",
       "    </tr>\n",
       "    <tr>\n",
       "      <th>1130</th>\n",
       "      <td>0.500000</td>\n",
       "      <td>0.000000</td>\n",
       "      <td>0.237037</td>\n",
       "      <td>0.093412</td>\n",
       "      <td>0.523529</td>\n",
       "      <td>0.497250</td>\n",
       "      <td>0.176056</td>\n",
       "      <td>0.614465</td>\n",
       "      <td>0.105263</td>\n",
       "      <td>0.635185</td>\n",
       "      <td>0.111111</td>\n",
       "    </tr>\n",
       "    <tr>\n",
       "      <th>1294</th>\n",
       "      <td>0.268595</td>\n",
       "      <td>0.000000</td>\n",
       "      <td>0.340741</td>\n",
       "      <td>0.244088</td>\n",
       "      <td>0.652941</td>\n",
       "      <td>0.720479</td>\n",
       "      <td>0.647887</td>\n",
       "      <td>0.434549</td>\n",
       "      <td>0.263158</td>\n",
       "      <td>0.459259</td>\n",
       "      <td>0.111111</td>\n",
       "    </tr>\n",
       "    <tr>\n",
       "      <th>860</th>\n",
       "      <td>0.694215</td>\n",
       "      <td>0.000000</td>\n",
       "      <td>0.600000</td>\n",
       "      <td>0.507095</td>\n",
       "      <td>0.764706</td>\n",
       "      <td>0.481721</td>\n",
       "      <td>0.415493</td>\n",
       "      <td>0.552899</td>\n",
       "      <td>0.315789</td>\n",
       "      <td>0.494444</td>\n",
       "      <td>0.222222</td>\n",
       "    </tr>\n",
       "    <tr>\n",
       "      <th>3174</th>\n",
       "      <td>0.144628</td>\n",
       "      <td>0.843137</td>\n",
       "      <td>0.688889</td>\n",
       "      <td>0.078378</td>\n",
       "      <td>0.688235</td>\n",
       "      <td>0.354901</td>\n",
       "      <td>0.507042</td>\n",
       "      <td>0.814704</td>\n",
       "      <td>0.315789</td>\n",
       "      <td>0.429630</td>\n",
       "      <td>0.222222</td>\n",
       "    </tr>\n",
       "  </tbody>\n",
       "</table>\n",
       "<p>2666 rows × 11 columns</p>\n",
       "</div>"
      ],
      "text/plain": [
       "      account length  number vmail messages  total day calls  \\\n",
       "817         1.000000               0.000000         0.459259   \n",
       "1373        0.442149               0.000000         0.555556   \n",
       "679         0.305785               0.000000         0.355556   \n",
       "56          0.578512               0.000000         0.503704   \n",
       "1993        0.351240               0.000000         0.488889   \n",
       "...              ...                    ...              ...   \n",
       "1095        0.433884               0.000000         0.666667   \n",
       "1130        0.500000               0.000000         0.237037   \n",
       "1294        0.268595               0.000000         0.340741   \n",
       "860         0.694215               0.000000         0.600000   \n",
       "3174        0.144628               0.843137         0.688889   \n",
       "\n",
       "      total day charge  total eve calls  total eve charge  total night calls  \\\n",
       "817           0.266892         0.370588          0.450016           0.598592   \n",
       "1373          0.314189         0.647059          0.532514           0.422535   \n",
       "679           0.631250         0.652941          0.899385           0.500000   \n",
       "56            0.356926         0.364706          0.494985           0.669014   \n",
       "1993          0.613682         0.452941          0.732449           0.542254   \n",
       "...                ...              ...               ...                ...   \n",
       "1095          0.780574         0.482353          0.546102           0.204225   \n",
       "1130          0.093412         0.523529          0.497250           0.176056   \n",
       "1294          0.244088         0.652941          0.720479           0.647887   \n",
       "860           0.507095         0.764706          0.481721           0.415493   \n",
       "3174          0.078378         0.688235          0.354901           0.507042   \n",
       "\n",
       "      total night charge  total intl calls  total intl charge  \\\n",
       "817             0.648536          0.315789           0.329630   \n",
       "1373            0.499701          0.210526           0.205556   \n",
       "679             0.497310          0.473684           0.435185   \n",
       "56              0.316796          0.105263           0.400000   \n",
       "1993            0.513449          0.157895           0.225926   \n",
       "...                  ...               ...                ...   \n",
       "1095            0.370592          0.157895           0.300000   \n",
       "1130            0.614465          0.105263           0.635185   \n",
       "1294            0.434549          0.263158           0.459259   \n",
       "860             0.552899          0.315789           0.494444   \n",
       "3174            0.814704          0.315789           0.429630   \n",
       "\n",
       "      customer service calls  \n",
       "817                 0.222222  \n",
       "1373                0.444444  \n",
       "679                 0.111111  \n",
       "56                  0.111111  \n",
       "1993                0.000000  \n",
       "...                      ...  \n",
       "1095                0.111111  \n",
       "1130                0.111111  \n",
       "1294                0.111111  \n",
       "860                 0.222222  \n",
       "3174                0.222222  \n",
       "\n",
       "[2666 rows x 11 columns]"
      ]
     },
     "execution_count": 320,
     "metadata": {},
     "output_type": "execute_result"
    }
   ],
   "source": [
    "X_train_numeric = X_train.drop(['state','area code','international plan','voice mail plan'], axis=1)\n",
    "scaler = MinMaxScaler()\n",
    "\n",
    "scaler.fit(X_train_numeric)\n",
    "X_train_scaled = pd.DataFrame(\n",
    "    scaler.transform(X_train_numeric),\n",
    "    # index is important to ensure we can concatenate with other columns\n",
    "    index=X_train_numeric.index,\n",
    "    columns=X_train_numeric.columns\n",
    ")\n",
    "X_train_scaled"
   ]
  },
  {
   "cell_type": "code",
   "execution_count": 321,
   "metadata": {},
   "outputs": [],
   "source": [
    "# Join the numeric and categorical features to one dataframe.\n",
    "X_train_full = pd.concat([X_train_scaled, X_train_ohe], axis=1)"
   ]
  },
  {
   "cell_type": "markdown",
   "metadata": {},
   "source": [
    "### Addressing Class Imbalance"
   ]
  },
  {
   "cell_type": "markdown",
   "metadata": {},
   "source": [
    "The binary classes in the target feature (churn) are not evenly distributed as illustrated below."
   ]
  },
  {
   "cell_type": "code",
   "execution_count": 322,
   "metadata": {},
   "outputs": [
    {
     "name": "stdout",
     "output_type": "stream",
     "text": [
      "0    2850\n",
      "1     483\n",
      "Name: churn, dtype: int64\n"
     ]
    },
    {
     "data": {
      "image/png": "[encoded data removed]",
      "text/plain": [
       "<Figure size 432x288 with 1 Axes>"
      ]
     },
     "metadata": {
      "needs_background": "light"
     },
     "output_type": "display_data"
    }
   ],
   "source": [
    "# Countplot of churn feature\n",
    "print(df.churn.value_counts())\n",
    "sns.countplot(data=df, x='churn')\n",
    "plt.show()"
   ]
  },
  {
   "cell_type": "markdown",
   "metadata": {},
   "source": [
    "* 14.5% of the data in the churn feature is true, this shows class imbalance which I will address using SMOTE, an oversampling technique."
   ]
  },
  {
   "cell_type": "code",
   "execution_count": 339,
   "metadata": {},
   "outputs": [
    {
     "name": "stdout",
     "output_type": "stream",
     "text": [
      "1    0.5\n",
      "0    0.5\n",
      "Name: churn, dtype: float64\n"
     ]
    },
    {
     "data": {
      "image/png": "[encoded data removed]",
      "text/plain": [
       "<Figure size 432x288 with 1 Axes>"
      ]
     },
     "metadata": {
      "needs_background": "light"
     },
     "output_type": "display_data"
    }
   ],
   "source": [
    "smote = SMOTE()\n",
    "X_train_full.columns = [str(col) for col in X_train_full.columns]\n",
    "y_train.name = 'churn'\n",
    "X_train_resampled, y_train_resampled = smote.fit_resample(X_train_full, y_train)\n",
    "print(y_train_resampled.value_counts(normalize=True))\n",
    "sns.countplot(data=y_train_resampled, x=y_train_resampled)\n",
    "plt.show()\n"
   ]
  },
  {
   "cell_type": "code",
   "execution_count": null,
   "metadata": {},
   "outputs": [],
   "source": []
  }
 ],
 "metadata": {
  "kernelspec": {
   "display_name": "Python 3.8.5 ('learn-env')",
   "language": "python",
   "name": "python3"
  },
  "language_info": {
   "codemirror_mode": {
    "name": "ipython",
    "version": 3
   },
   "file_extension": ".py",
   "mimetype": "text/x-python",
   "name": "python",
   "nbconvert_exporter": "python",
   "pygments_lexer": "ipython3",
   "version": "3.8.5"
  },
  "orig_nbformat": 4,
  "vscode": {
   "interpreter": {
    "hash": "2750746f8b7ed9c45415a810fa31683ef7a1c9b91a21df7d1cade2c02abffdc5"
   }
  }
 },
 "nbformat": 4,
 "nbformat_minor": 2
}
